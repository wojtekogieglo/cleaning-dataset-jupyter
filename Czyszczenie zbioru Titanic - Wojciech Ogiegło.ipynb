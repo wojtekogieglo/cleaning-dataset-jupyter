{
 "cells": [
  {
   "cell_type": "markdown",
   "metadata": {},
   "source": [
    "# Czyszczenie zbioru Titanic\n",
    "### Wojciech Ogiegło\n",
    "## Cel pracy\n",
    "\n",
    "Celem pracy jest jak najlepsze przygotowanie zbioru danych o nazwie ,,TitanicMess'' w celu jego analizy. W skład przygotowania wchodzą takie rzeczy jak:\n",
    "* usunięcie niepotrzebnych kolumn do analizy,\n",
    "* usunięcie brakujących wartości poprzez zamianę na średnią lub usunięcie całych wystąpień, które posiadają te brakujące wartości,\n",
    "* zaokrąglenie wartości do góry w zmiennych, w których niepotrzebny jest zapis dziesiętny np. wiek,\n",
    "* połączenie wartości z kolumn w jedną dodatkową kolumnę.\n",
    "\n",
    "## Rozwiązanie\n",
    "\n",
    "Na samym początku należy zaimportować wszystkie potrzebne biblioteki:"
   ]
  },
  {
   "cell_type": "code",
   "execution_count": 1,
   "metadata": {},
   "outputs": [],
   "source": [
    "import numpy as np\n",
    "import pandas as pd\n",
    "import math"
   ]
  },
  {
   "cell_type": "markdown",
   "metadata": {},
   "source": [
    "Kolejnym krokiem jest wczytanie zbioru do zmiennej data:"
   ]
  },
  {
   "cell_type": "code",
   "execution_count": 2,
   "metadata": {},
   "outputs": [],
   "source": [
    "data = pd.read_csv('TitanicMess.tsv', sep='\\t', thousands=',')"
   ]
  },
  {
   "cell_type": "markdown",
   "metadata": {},
   "source": [
    "Po wczytaniu danych należy się z nimi zapoznać:"
   ]
  },
  {
   "cell_type": "code",
   "execution_count": 3,
   "metadata": {},
   "outputs": [
    {
     "name": "stdout",
     "output_type": "stream",
     "text": [
      "<class 'pandas.core.frame.DataFrame'>\n",
      "RangeIndex: 892 entries, 0 to 891\n",
      "Data columns (total 13 columns):\n",
      " #   Column       Non-Null Count  Dtype  \n",
      "---  ------       --------------  -----  \n",
      " 0   PassengerId  892 non-null    int64  \n",
      " 1   Survived     892 non-null    int64  \n",
      " 2   Pclass       892 non-null    int64  \n",
      " 3   Name         892 non-null    object \n",
      " 4   Sex          892 non-null    object \n",
      " 5   Age          719 non-null    float64\n",
      " 6   SibSp        892 non-null    int64  \n",
      " 7   Parch        892 non-null    int64  \n",
      " 8   Ticket       892 non-null    object \n",
      " 9   Fare         892 non-null    object \n",
      " 10  Cabin        207 non-null    object \n",
      " 11  Embarked     890 non-null    object \n",
      " 12  ship         892 non-null    object \n",
      "dtypes: float64(1), int64(5), object(7)\n",
      "memory usage: 90.7+ KB\n"
     ]
    }
   ],
   "source": [
    "data.info()"
   ]
  },
  {
   "cell_type": "code",
   "execution_count": 4,
   "metadata": {},
   "outputs": [
    {
     "data": {
      "text/html": [
       "<div>\n",
       "<style scoped>\n",
       "    .dataframe tbody tr th:only-of-type {\n",
       "        vertical-align: middle;\n",
       "    }\n",
       "\n",
       "    .dataframe tbody tr th {\n",
       "        vertical-align: top;\n",
       "    }\n",
       "\n",
       "    .dataframe thead th {\n",
       "        text-align: right;\n",
       "    }\n",
       "</style>\n",
       "<table border=\"1\" class=\"dataframe\">\n",
       "  <thead>\n",
       "    <tr style=\"text-align: right;\">\n",
       "      <th></th>\n",
       "      <th>PassengerId</th>\n",
       "      <th>Survived</th>\n",
       "      <th>Pclass</th>\n",
       "      <th>Name</th>\n",
       "      <th>Sex</th>\n",
       "      <th>Age</th>\n",
       "      <th>SibSp</th>\n",
       "      <th>Parch</th>\n",
       "      <th>Ticket</th>\n",
       "      <th>Fare</th>\n",
       "      <th>Cabin</th>\n",
       "      <th>Embarked</th>\n",
       "      <th>ship</th>\n",
       "    </tr>\n",
       "  </thead>\n",
       "  <tbody>\n",
       "    <tr>\n",
       "      <th>0</th>\n",
       "      <td>1</td>\n",
       "      <td>0</td>\n",
       "      <td>3</td>\n",
       "      <td>Braund, Mr. Owen Harris</td>\n",
       "      <td>male</td>\n",
       "      <td>22.0</td>\n",
       "      <td>1</td>\n",
       "      <td>0</td>\n",
       "      <td>A/5 21171</td>\n",
       "      <td>7,25</td>\n",
       "      <td>NaN</td>\n",
       "      <td>S</td>\n",
       "      <td>Titanic</td>\n",
       "    </tr>\n",
       "    <tr>\n",
       "      <th>1</th>\n",
       "      <td>2</td>\n",
       "      <td>1</td>\n",
       "      <td>1</td>\n",
       "      <td>Cumings, Mrs. John Bradley (Florence Briggs Th...</td>\n",
       "      <td>female</td>\n",
       "      <td>38.0</td>\n",
       "      <td>1</td>\n",
       "      <td>0</td>\n",
       "      <td>PC 17599</td>\n",
       "      <td>71,2833</td>\n",
       "      <td>C85</td>\n",
       "      <td>C</td>\n",
       "      <td>Titanic</td>\n",
       "    </tr>\n",
       "    <tr>\n",
       "      <th>2</th>\n",
       "      <td>3</td>\n",
       "      <td>1</td>\n",
       "      <td>3</td>\n",
       "      <td>Heikkinen, Miss. Laina</td>\n",
       "      <td>female</td>\n",
       "      <td>26.0</td>\n",
       "      <td>0</td>\n",
       "      <td>0</td>\n",
       "      <td>STON/O2. 3101282</td>\n",
       "      <td>7,925</td>\n",
       "      <td>NaN</td>\n",
       "      <td>S</td>\n",
       "      <td>Titanic</td>\n",
       "    </tr>\n",
       "    <tr>\n",
       "      <th>3</th>\n",
       "      <td>4</td>\n",
       "      <td>1</td>\n",
       "      <td>1</td>\n",
       "      <td>Futrelle, Mrs. Jacques Heath (Lily May Peel)</td>\n",
       "      <td>female</td>\n",
       "      <td>35.0</td>\n",
       "      <td>1</td>\n",
       "      <td>0</td>\n",
       "      <td>113803</td>\n",
       "      <td>53,1</td>\n",
       "      <td>C123</td>\n",
       "      <td>S</td>\n",
       "      <td>Titanic</td>\n",
       "    </tr>\n",
       "    <tr>\n",
       "      <th>4</th>\n",
       "      <td>5</td>\n",
       "      <td>0</td>\n",
       "      <td>3</td>\n",
       "      <td>Allen, Mr. William Henry</td>\n",
       "      <td>male</td>\n",
       "      <td>35.0</td>\n",
       "      <td>0</td>\n",
       "      <td>0</td>\n",
       "      <td>373450</td>\n",
       "      <td>8,05</td>\n",
       "      <td>NaN</td>\n",
       "      <td>S</td>\n",
       "      <td>Titanic</td>\n",
       "    </tr>\n",
       "  </tbody>\n",
       "</table>\n",
       "</div>"
      ],
      "text/plain": [
       "   PassengerId  Survived  Pclass  \\\n",
       "0            1         0       3   \n",
       "1            2         1       1   \n",
       "2            3         1       3   \n",
       "3            4         1       1   \n",
       "4            5         0       3   \n",
       "\n",
       "                                                Name     Sex   Age  SibSp  \\\n",
       "0                            Braund, Mr. Owen Harris    male  22.0      1   \n",
       "1  Cumings, Mrs. John Bradley (Florence Briggs Th...  female  38.0      1   \n",
       "2                             Heikkinen, Miss. Laina  female  26.0      0   \n",
       "3       Futrelle, Mrs. Jacques Heath (Lily May Peel)  female  35.0      1   \n",
       "4                           Allen, Mr. William Henry    male  35.0      0   \n",
       "\n",
       "   Parch            Ticket     Fare Cabin Embarked     ship  \n",
       "0      0         A/5 21171     7,25   NaN        S  Titanic  \n",
       "1      0          PC 17599  71,2833   C85        C  Titanic  \n",
       "2      0  STON/O2. 3101282    7,925   NaN        S  Titanic  \n",
       "3      0            113803     53,1  C123        S  Titanic  \n",
       "4      0            373450     8,05   NaN        S  Titanic  "
      ]
     },
     "execution_count": 4,
     "metadata": {},
     "output_type": "execute_result"
    }
   ],
   "source": [
    "data.head()"
   ]
  },
  {
   "cell_type": "markdown",
   "metadata": {},
   "source": [
    "Jak widać, zbiór danych składa się z 891 instancji oraz 12 zmiennych. Zmienne przedstawiają się następująco:\n",
    "* PassengerId - Identyfikator pasażera\n",
    "* Survived - Informacja czy pasażer przeżył katastrofe, 0 - nie przeżył, 1 - przeżył\n",
    "* Pclass - Klasa biletu pasażera, 1, 2 oraz 3 klasa\n",
    "* Name - Imię i nazwisko pasażera\n",
    "* Sex - Płeć pasażera\n",
    "* Age - Wiek w latach\n",
    "* SibSp - Liczba pasażerów w postaci rodzeństwa lub męża/żony, z którymi pasażer podróżował\n",
    "* Parch - Liczba pasażerów w postaci rodziców lub dzieci, z którymi pasażer podróżował. Niektóre dzieci podróżowały z nianią - w tym przypadku zmienna przyjmuje wartość 0\n",
    "* Ticket - Identyfikator biletu\n",
    "* Fare - Opłata za bilet\n",
    "* Cabin - Numer kabiny\n",
    "* Embarked - Port, na którym wsiadał, C - Cherbourg, Q - Queenstown, S - Southampton\n",
    "* ship - Nazwa statku"
   ]
  },
  {
   "cell_type": "markdown",
   "metadata": {},
   "source": [
    "Możemy zauważyć, że kolumna Fare, w której powinny znaleźć się opłaty za bilet jest reprezentowana przez typ ,,object''. Jest to nieprawidłowe działanie, w związku z powyższym należy zamienić wszystkie ,,,'' na ,,.'', a następnie usunąć wszystkie znaki, które nie są liczbami i zamienić wartości w kolumnie na typu float."
   ]
  },
  {
   "cell_type": "code",
   "execution_count": 5,
   "metadata": {},
   "outputs": [],
   "source": [
    "data['Fare'] = data['Fare'].str.replace(',','.')\n",
    "data['Fare'] = data['Fare'].str.replace(r'[^0-9\\.]+', '')\n",
    "data['Fare'] = pd.to_numeric(data['Fare'])"
   ]
  },
  {
   "cell_type": "markdown",
   "metadata": {},
   "source": [
    "Kolejnym elementem , który dotyczy typu kolumn jest fakt, że kilka z nich ma nieprawidłowy typ danych. Kolumna Survived zawiera informacje czy ktoś przeżył katastrofę, powinna być typu kategorycznego, podobnie kolumna Pclass, Sex oraz Embarked. Poniżej zmieniono ich typ na ,,category''."
   ]
  },
  {
   "cell_type": "code",
   "execution_count": 6,
   "metadata": {},
   "outputs": [],
   "source": [
    "data[\"Survived\"] = data[\"Survived\"].astype(\"category\")\n",
    "data[\"Pclass\"] = data[\"Pclass\"].astype(\"category\")\n",
    "data[\"Sex\"] = data[\"Sex\"].astype(\"category\")\n",
    "data[\"Embarked\"] = data[\"Embarked\"].astype(\"category\")"
   ]
  },
  {
   "cell_type": "code",
   "execution_count": 7,
   "metadata": {},
   "outputs": [
    {
     "name": "stdout",
     "output_type": "stream",
     "text": [
      "<class 'pandas.core.frame.DataFrame'>\n",
      "RangeIndex: 892 entries, 0 to 891\n",
      "Data columns (total 13 columns):\n",
      " #   Column       Non-Null Count  Dtype   \n",
      "---  ------       --------------  -----   \n",
      " 0   PassengerId  892 non-null    int64   \n",
      " 1   Survived     892 non-null    category\n",
      " 2   Pclass       892 non-null    category\n",
      " 3   Name         892 non-null    object  \n",
      " 4   Sex          892 non-null    category\n",
      " 5   Age          719 non-null    float64 \n",
      " 6   SibSp        892 non-null    int64   \n",
      " 7   Parch        892 non-null    int64   \n",
      " 8   Ticket       892 non-null    object  \n",
      " 9   Fare         892 non-null    float64 \n",
      " 10  Cabin        207 non-null    object  \n",
      " 11  Embarked     890 non-null    category\n",
      " 12  ship         892 non-null    object  \n",
      "dtypes: category(4), float64(2), int64(3), object(4)\n",
      "memory usage: 66.9+ KB\n"
     ]
    }
   ],
   "source": [
    "data.info()"
   ]
  },
  {
   "cell_type": "markdown",
   "metadata": {},
   "source": [
    "Jak widać, operacja została wykonana pomyślnie - kolumny wymienione wyżej są typu ,,category'', a w kolumnie Fare mamy same liczby typu float.\n",
    "\n",
    "Po głębszym zapoznaniu się ze zbiorem danych, można uznać, że kilka kolumn nie przyda się w przyszłej analizie danych. W przypadku naszego zbioru danych, takimi kolumnami jest identyfikator biletu (Ticket), numer kabiny (Cabin), nazwa statku (ship) oraz imię i nazwisko pasażera (Name). Rozwiązaniem jest usunięcie niepotrzebnych kolumn:"
   ]
  },
  {
   "cell_type": "code",
   "execution_count": 8,
   "metadata": {},
   "outputs": [
    {
     "name": "stdout",
     "output_type": "stream",
     "text": [
      "<class 'pandas.core.frame.DataFrame'>\n",
      "RangeIndex: 892 entries, 0 to 891\n",
      "Data columns (total 9 columns):\n",
      " #   Column       Non-Null Count  Dtype   \n",
      "---  ------       --------------  -----   \n",
      " 0   PassengerId  892 non-null    int64   \n",
      " 1   Survived     892 non-null    category\n",
      " 2   Pclass       892 non-null    category\n",
      " 3   Sex          892 non-null    category\n",
      " 4   Age          719 non-null    float64 \n",
      " 5   SibSp        892 non-null    int64   \n",
      " 6   Parch        892 non-null    int64   \n",
      " 7   Fare         892 non-null    float64 \n",
      " 8   Embarked     890 non-null    category\n",
      "dtypes: category(4), float64(2), int64(3)\n",
      "memory usage: 39.1 KB\n"
     ]
    }
   ],
   "source": [
    "data = data.drop(['Ticket', 'Cabin', 'ship', 'Name'], axis=1)\n",
    "data.info()"
   ]
  },
  {
   "cell_type": "markdown",
   "metadata": {},
   "source": [
    "Jak widać, kolumny zostały usunięte.\n",
    "\n",
    "W kolejnym kroku czyszczenia danych można zauważyć, że w przypadku dwóch zmiennych mamy brakujące wartości. Zmienna Age posiada ich wiele, a zmienna Embarked posiada brakujące wartości w przypadku dwóch wystąpień. Rozwiązaniem tego problemu jest zamienienie lub usunięcie wierszy z brakującymi wartościami. Zastąpić można na kilka sposobów m.in maksymalną lub minimalną wartością występującą w tej kolumnie lub średnią. W związku z tym, że w przypadku zmiennej Age mamy wiele brakujących wartości, usunięcie ich może być problematyczne w kontekście przyszłej analizy danych. Biorąc powyższe pod uwagę, brakujące wartości w zmiennej Age zostały uzupełnione średnią z wszystkich wystąpień, a wystąpienia z brakującymi wartościami w kolumnie Embarked zostały usunięte."
   ]
  },
  {
   "cell_type": "code",
   "execution_count": 9,
   "metadata": {},
   "outputs": [
    {
     "name": "stdout",
     "output_type": "stream",
     "text": [
      "<class 'pandas.core.frame.DataFrame'>\n",
      "Int64Index: 890 entries, 0 to 891\n",
      "Data columns (total 9 columns):\n",
      " #   Column       Non-Null Count  Dtype   \n",
      "---  ------       --------------  -----   \n",
      " 0   PassengerId  890 non-null    int64   \n",
      " 1   Survived     890 non-null    category\n",
      " 2   Pclass       890 non-null    category\n",
      " 3   Sex          890 non-null    category\n",
      " 4   Age          890 non-null    float64 \n",
      " 5   SibSp        890 non-null    int64   \n",
      " 6   Parch        890 non-null    int64   \n",
      " 7   Fare         890 non-null    float64 \n",
      " 8   Embarked     890 non-null    category\n",
      "dtypes: category(4), float64(2), int64(3)\n",
      "memory usage: 45.8 KB\n"
     ]
    }
   ],
   "source": [
    "data['Age'] = data['Age'].fillna(data['Age'].mean())\n",
    "data = data[data['Embarked'].notna()]\n",
    "data.info()"
   ]
  },
  {
   "cell_type": "markdown",
   "metadata": {},
   "source": [
    "Można zauważyć, że w kolumnie Age nie ma już brakujących wartości, a cały zbiór danych został pomniejszony o dwa wystąpienia, w których były brakujące wartości w kolumnie Embarked.\n",
    "\n",
    "Kolejną rzeczą, którą można zauważyć przeglądając zbiór jest fakt, że w przypadku kolumny Age mamy wartości w postaci float - co oznacza, że np. wiek jest zapisany w następujący sposób: ,,20,2''. Nie ma sensu prezentować go w ten sposób, wystarczy, że będzie reprezentowany przez liczby całkowite. Podobnie mamy z kolumną Fare."
   ]
  },
  {
   "cell_type": "code",
   "execution_count": 10,
   "metadata": {},
   "outputs": [
    {
     "name": "stdout",
     "output_type": "stream",
     "text": [
      "<class 'pandas.core.frame.DataFrame'>\n",
      "Int64Index: 890 entries, 0 to 891\n",
      "Data columns (total 9 columns):\n",
      " #   Column       Non-Null Count  Dtype   \n",
      "---  ------       --------------  -----   \n",
      " 0   PassengerId  890 non-null    int64   \n",
      " 1   Survived     890 non-null    category\n",
      " 2   Pclass       890 non-null    category\n",
      " 3   Sex          890 non-null    category\n",
      " 4   Age          890 non-null    int64   \n",
      " 5   SibSp        890 non-null    int64   \n",
      " 6   Parch        890 non-null    int64   \n",
      " 7   Fare         890 non-null    int64   \n",
      " 8   Embarked     890 non-null    category\n",
      "dtypes: category(4), int64(5)\n",
      "memory usage: 45.8 KB\n"
     ]
    }
   ],
   "source": [
    "data['Age'] = data['Age'].apply(math.ceil)\n",
    "data['Fare'] = data['Fare'].apply(math.ceil)\n",
    "data.info()"
   ]
  },
  {
   "cell_type": "markdown",
   "metadata": {},
   "source": [
    "Jak widać, mamy teraz tylo obiekty reprezentowane za pomocą liczb całkowitych lub danych kategorycznych.\n",
    "\n",
    "Ostatnią rzeczą, którą uważam, że może przydać się do analizy jest zoptymalizowanie liczby osób, z którymi pasażer podróżował. Biorąc pod uwagę, że w zmiennej SibSp przechowywana jest liczba współpasażerów w postaci rodzeństwa lub męża/żony, a w zmiennej Parch liczba współpasażerów w postaci rodziców lub dzieci to można połączyć wartości tych dwóch zmiennych w jedną jako sumę współpasażerów danej osoby. \n"
   ]
  },
  {
   "cell_type": "code",
   "execution_count": 11,
   "metadata": {},
   "outputs": [
    {
     "data": {
      "text/html": [
       "<div>\n",
       "<style scoped>\n",
       "    .dataframe tbody tr th:only-of-type {\n",
       "        vertical-align: middle;\n",
       "    }\n",
       "\n",
       "    .dataframe tbody tr th {\n",
       "        vertical-align: top;\n",
       "    }\n",
       "\n",
       "    .dataframe thead th {\n",
       "        text-align: right;\n",
       "    }\n",
       "</style>\n",
       "<table border=\"1\" class=\"dataframe\">\n",
       "  <thead>\n",
       "    <tr style=\"text-align: right;\">\n",
       "      <th></th>\n",
       "      <th>PassengerId</th>\n",
       "      <th>Survived</th>\n",
       "      <th>Pclass</th>\n",
       "      <th>Sex</th>\n",
       "      <th>Age</th>\n",
       "      <th>SibSp</th>\n",
       "      <th>Parch</th>\n",
       "      <th>Fare</th>\n",
       "      <th>Embarked</th>\n",
       "      <th>FamilySize</th>\n",
       "    </tr>\n",
       "  </thead>\n",
       "  <tbody>\n",
       "    <tr>\n",
       "      <th>0</th>\n",
       "      <td>1</td>\n",
       "      <td>0</td>\n",
       "      <td>3</td>\n",
       "      <td>male</td>\n",
       "      <td>22</td>\n",
       "      <td>1</td>\n",
       "      <td>0</td>\n",
       "      <td>8</td>\n",
       "      <td>S</td>\n",
       "      <td>1</td>\n",
       "    </tr>\n",
       "    <tr>\n",
       "      <th>1</th>\n",
       "      <td>2</td>\n",
       "      <td>1</td>\n",
       "      <td>1</td>\n",
       "      <td>female</td>\n",
       "      <td>38</td>\n",
       "      <td>1</td>\n",
       "      <td>0</td>\n",
       "      <td>72</td>\n",
       "      <td>C</td>\n",
       "      <td>1</td>\n",
       "    </tr>\n",
       "    <tr>\n",
       "      <th>2</th>\n",
       "      <td>3</td>\n",
       "      <td>1</td>\n",
       "      <td>3</td>\n",
       "      <td>female</td>\n",
       "      <td>26</td>\n",
       "      <td>0</td>\n",
       "      <td>0</td>\n",
       "      <td>8</td>\n",
       "      <td>S</td>\n",
       "      <td>0</td>\n",
       "    </tr>\n",
       "    <tr>\n",
       "      <th>3</th>\n",
       "      <td>4</td>\n",
       "      <td>1</td>\n",
       "      <td>1</td>\n",
       "      <td>female</td>\n",
       "      <td>35</td>\n",
       "      <td>1</td>\n",
       "      <td>0</td>\n",
       "      <td>54</td>\n",
       "      <td>S</td>\n",
       "      <td>1</td>\n",
       "    </tr>\n",
       "    <tr>\n",
       "      <th>4</th>\n",
       "      <td>5</td>\n",
       "      <td>0</td>\n",
       "      <td>3</td>\n",
       "      <td>male</td>\n",
       "      <td>35</td>\n",
       "      <td>0</td>\n",
       "      <td>0</td>\n",
       "      <td>9</td>\n",
       "      <td>S</td>\n",
       "      <td>0</td>\n",
       "    </tr>\n",
       "  </tbody>\n",
       "</table>\n",
       "</div>"
      ],
      "text/plain": [
       "   PassengerId Survived Pclass     Sex  Age  SibSp  Parch  Fare Embarked  \\\n",
       "0            1        0      3    male   22      1      0     8        S   \n",
       "1            2        1      1  female   38      1      0    72        C   \n",
       "2            3        1      3  female   26      0      0     8        S   \n",
       "3            4        1      1  female   35      1      0    54        S   \n",
       "4            5        0      3    male   35      0      0     9        S   \n",
       "\n",
       "   FamilySize  \n",
       "0           1  \n",
       "1           1  \n",
       "2           0  \n",
       "3           1  \n",
       "4           0  "
      ]
     },
     "execution_count": 11,
     "metadata": {},
     "output_type": "execute_result"
    }
   ],
   "source": [
    "familySize = pd.DataFrame(data.apply(lambda x: x.SibSp+x.Parch, axis=1), columns=[\"FamilySize\"])\n",
    "data = data.join(familySize)\n",
    "data.head()"
   ]
  },
  {
   "cell_type": "markdown",
   "metadata": {},
   "source": [
    "Jak widać powyżej - dodano do zbioru danych zmienną FamilySize, która zawiera sumę zawartości zmiennych SibSp oraz Parch. Zmienne te nie będą już potrzebne więc zostaną usunięte."
   ]
  },
  {
   "cell_type": "code",
   "execution_count": 12,
   "metadata": {},
   "outputs": [
    {
     "name": "stdout",
     "output_type": "stream",
     "text": [
      "<class 'pandas.core.frame.DataFrame'>\n",
      "Int64Index: 890 entries, 0 to 891\n",
      "Data columns (total 8 columns):\n",
      " #   Column       Non-Null Count  Dtype   \n",
      "---  ------       --------------  -----   \n",
      " 0   PassengerId  890 non-null    int64   \n",
      " 1   Survived     890 non-null    category\n",
      " 2   Pclass       890 non-null    category\n",
      " 3   Sex          890 non-null    category\n",
      " 4   Age          890 non-null    int64   \n",
      " 5   Fare         890 non-null    int64   \n",
      " 6   Embarked     890 non-null    category\n",
      " 7   FamilySize   890 non-null    int64   \n",
      "dtypes: category(4), int64(4)\n",
      "memory usage: 78.8 KB\n"
     ]
    }
   ],
   "source": [
    "data = data.drop(['SibSp', 'Parch'], axis=1)\n",
    "data.info()"
   ]
  },
  {
   "cell_type": "markdown",
   "metadata": {},
   "source": [
    "Zapisanie zbioru danych do pliku:"
   ]
  },
  {
   "cell_type": "code",
   "execution_count": 13,
   "metadata": {},
   "outputs": [],
   "source": [
    "data.to_csv('TitanicCleaned.tsv')"
   ]
  },
  {
   "cell_type": "markdown",
   "metadata": {},
   "source": [
    "## Podsumowanie\n",
    "\n",
    "Zbiór danych został przetworzony i zoptymalizowany w celu dalszej analizy. W trakcie tego procesu zostały wykonane wszystkie czynności wymienione we wprowadzeniu. Należą do nich m.in zapoznanie się ze zbiorem i usunięcie niepotrzebnych do dalszej analizy zmiennych, pozbycie się brakujących wartości w wystąpieniach, zamiana typów zmiennych na bardziej odpowiednie np. zmiana typu int zmiennych Survived czy Pclass na zmienne kategoryczne czy zaokrąglenie wartości w przypadku wieku i opłat co spowodowało zmianę typu z float na int. Dodatkowo została dodana dodatkowa zmienna o nazwie FamilySize, która zawiera liczbę współpasażerów danego podróżnego."
   ]
  }
 ],
 "metadata": {
  "kernelspec": {
   "display_name": "Python 3",
   "language": "python",
   "name": "python3"
  },
  "language_info": {
   "codemirror_mode": {
    "name": "ipython",
    "version": 3
   },
   "file_extension": ".py",
   "mimetype": "text/x-python",
   "name": "python",
   "nbconvert_exporter": "python",
   "pygments_lexer": "ipython3",
   "version": "3.8.5"
  }
 },
 "nbformat": 4,
 "nbformat_minor": 4
}
